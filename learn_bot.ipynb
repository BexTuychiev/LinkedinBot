{
 "cells": [
  {
   "cell_type": "code",
   "execution_count": 1,
   "metadata": {},
   "outputs": [],
   "source": [
    "from final import LinkedinBot"
   ]
  },
  {
   "cell_type": "code",
   "execution_count": 2,
   "metadata": {},
   "outputs": [
    {
     "name": "stdout",
     "output_type": "stream",
     "text": [
      "Unable to determine current company...continuing\n"
     ]
    }
   ],
   "source": [
    "bot = LinkedinBot(\n",
    "        cookie='AQEDAS_CpVgAZJtdAAABctX1xfEAAAFy-gJJ8U0Aw3faemVsziA2wOqaZZoexUuShwyibcvMf3TuQK5qnTAAiJDpMxfs3B2'\n",
    "               'z0Fq0l-xdyf9d_0CJOcZ4gvLfL14thtyH2a6EbQXM-Ueh3tEQ00xiuXWA', value='spencernicol', mode='in')"
   ]
  },
  {
   "cell_type": "code",
   "execution_count": 3,
   "metadata": {},
   "outputs": [
    {
     "name": "stdout",
     "output_type": "stream",
     "text": [
      "{'name': 'Spencer Nicol'}\n"
     ]
    }
   ],
   "source": [
    "bot.personal_info('name')"
   ]
  },
  {
   "cell_type": "code",
   "execution_count": 4,
   "metadata": {},
   "outputs": [
    {
     "name": "stdout",
     "output_type": "stream",
     "text": [
      "{'education': []}\n"
     ]
    }
   ],
   "source": [
    "bot.get_experiences('education')"
   ]
  },
  {
   "cell_type": "code",
   "execution_count": 5,
   "metadata": {},
   "outputs": [],
   "source": [
    "bot.get_skills()"
   ]
  },
  {
   "cell_type": "code",
   "execution_count": 6,
   "metadata": {},
   "outputs": [
    {
     "data": {
      "text/plain": [
       "{'personal_info': {'name': 'Spencer Nicol',\n",
       "  'headline': 'UX & Product Designer',\n",
       "  'company': None,\n",
       "  'school': None,\n",
       "  'location': 'Pittsburgh, Pennsylvania, United States',\n",
       "  'summary': '',\n",
       "  'image': '',\n",
       "  'followers': '',\n",
       "  'email': 'spncr.nicol@gmail.com',\n",
       "  'phone': None,\n",
       "  'connected': 'March 24, 2020',\n",
       "  'websites': ['http://spencernicol.com'],\n",
       "  'current_company_link': ''},\n",
       " 'experiences': {'jobs': [], 'education': [], 'volunteering': []},\n",
       " 'skills': [],\n",
       " 'accomplishments': {'publications': [],\n",
       "  'certifications': [],\n",
       "  'patents': [],\n",
       "  'courses': [],\n",
       "  'projects': [],\n",
       "  'honors': [],\n",
       "  'test_scores': [],\n",
       "  'languages': [],\n",
       "  'organizations': []},\n",
       " 'interests': []}"
      ]
     },
     "execution_count": 6,
     "metadata": {},
     "output_type": "execute_result"
    }
   ],
   "source": [
    "bot.results"
   ]
  },
  {
   "cell_type": "code",
   "execution_count": null,
   "metadata": {},
   "outputs": [],
   "source": []
  }
 ],
 "metadata": {
  "kernelspec": {
   "display_name": "LinkedinBot",
   "language": "python",
   "name": "linkedinbot"
  },
  "language_info": {
   "codemirror_mode": {
    "name": "ipython",
    "version": 3
   },
   "file_extension": ".py",
   "mimetype": "text/x-python",
   "name": "python",
   "nbconvert_exporter": "python",
   "pygments_lexer": "ipython3",
   "version": "3.8.3"
  }
 },
 "nbformat": 4,
 "nbformat_minor": 4
}
