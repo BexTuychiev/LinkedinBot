{
 "cells": [
  {
   "cell_type": "code",
   "execution_count": 1,
   "metadata": {},
   "outputs": [],
   "source": [
    "from scrape_linkedin import ProfileScraper\n",
    "from scrape_linkedin import CompanyScraper"
   ]
  },
  {
   "cell_type": "code",
   "execution_count": 9,
   "metadata": {},
   "outputs": [],
   "source": [
    "with ProfileScraper(\n",
    "        cookie='AQEDAS_CpVgAZJtdAAABctX1xfEAAAFy-gJJ8U0Aw3faemVsziA2wOqaZZoexUuShwyibcvMf3TuQK5qnTAAiJDpMxfs3B2'\n",
    "               'z0Fq0l-xdyf9d_0CJOcZ4gvLfL14thtyH2a6EbQXM-Ueh3tEQ00xiuXWA') as scraper:\n",
    "    profile = scraper.scrape(user='garyvaynerchuk')"
   ]
  },
  {
   "cell_type": "code",
   "execution_count": 16,
   "metadata": {},
   "outputs": [
    {
     "data": {
      "text/plain": [
       "{'personal_info': {'name': 'Gary Vaynerchuk',\n",
       "  'headline': 'Chairman of VaynerX, CEO of VaynerMedia, 5-Time NYT Bestselling Author',\n",
       "  'company': None,\n",
       "  'school': None,\n",
       "  'location': 'New York, New York',\n",
       "  'summary': \"Gary Vaynerchuk is the chairman of VaynerX, a modern-day media and communications holding company and the active CEO of VaynerMedia, a full-service advertising agency servicing Fortune 100 clients across the company’s 4 locations. In addition to VaynerMedia, VaynerX also includes Gallery Media Group, which houses women’s lifestyle brand PureWow and men's lifestyle brand ONE37pm. In addition to running VaynerMedia, Gary also serves as a partner in the athlete representation agency VaynerSports, cannabis-focused branding and marketing agency Green Street and restaurant reservations app Resy.Gary is a board/advisory member of Ad Council and Pencils of Promise, and is a longtime Well Member of Charity:Water.Gary is a highly sought after public speaker, a 5-time New York Times bestselling author, as well as a prolific angel investor with early investments in companies such as Facebook, Twitter, Tumblr, Venmo, and Uber.Gary is currently the subject of DailyVee, an online documentary series highlighting what it’s like to be a CEO and public figure in today’s digital world, as well the host of The GaryVee Audio Experience, a top 100 global podcast, and host of #AskGaryVee, a business and advice Q&A show which can be found on both YouTube and Facebook.Gary also appeared as judge in Apple’s first original series “Planet of the Apps” alongside Gwyneth Paltrow, Jessica Alba and Will.i.am.\",\n",
       "  'image': '',\n",
       "  'followers': '4,108,949',\n",
       "  'email': None,\n",
       "  'phone': None,\n",
       "  'connected': None,\n",
       "  'websites': ['https://www.youtube.com/garyvee',\n",
       "   'https://www.garyvaynerchuk.com/books',\n",
       "   'https://www.garyvaynerchuk.com/hire-me/'],\n",
       "  'current_company_link': 'https://www.linkedin.com/company/vaynermedia/'},\n",
       " 'experiences': {'jobs': [{'title': 'CEO',\n",
       "    'company': 'VaynerMedia',\n",
       "    'date_range': 'Apr 2009 – Present',\n",
       "    'location': 'New York City',\n",
       "    'description': \"I'm the CEO of a full-service digital agency built for the now. We partner with clients to drive better business outcomes with best-in-class video production, media planning, distribution, influencer marketing, Google & Alexa voice services, and everything in between.We have grown from 0-800+ with locations in New York, Los Angeles, London and Chattanooga in the last 8 years. We work with some of the biggest companies in the world including GE, PepsiCo, ABinBev, Chase, Unilever, USA, Syfy, Mondelez, Toyota, Diageo and Johnson's Our specialties are: Full Service CreativePaid MediaInfluencer MarketingIoT & VoiceeCommerceVaynerTalent (Personal Branding)4D’s (In House Consulting)You can view some of our campaigns for big-name brands here: http://vaynermedia.com/case-studies/\\n\\n    \\n…\\n\\n        see more\",\n",
       "    'li_company_url': 'https://www.linkedin.com/company/vaynermedia/'},\n",
       "   {'title': 'Co-Founder',\n",
       "    'company': 'VaynerSports',\n",
       "    'date_range': 'Jan 2016 – Present',\n",
       "    'location': 'Greater New York City Area',\n",
       "    'description': 'VaynerSports is a full-service athlete representation agency that guides players through a variety of issues involving their professional career. We are improving the level of service beyond what any athlete has experienced in the industry thus far, one client at a time.',\n",
       "    'li_company_url': 'https://www.linkedin.com/company/vaynersports/'},\n",
       "   {'title': 'Co-Founder',\n",
       "    'company': 'Vayner/RSE',\n",
       "    'date_range': 'Feb 2014 – Present',\n",
       "    'location': 'New York City',\n",
       "    'description': 'I was an angel investor in companies like Facebook, Twitter, Tumblr, Uber, and Birchbox before eventually co-founding VaynerRSE, a 25M New York-based venture capital firm specializing in seed-stage investments.Partners include: Phil Toronto, AJ Vaynerchuk, Matt Higgins and Kerry KelloggOur portfolio includes: Medium, CoinBase, Birchbox, Snap, Resy, Beme, Breather, Shyp and more.\\n\\n    \\n…\\n\\n        see more',\n",
       "    'li_company_url': 'https://www.linkedin.com/company/vaynerrse/'},\n",
       "   {'title': 'Host/Producer',\n",
       "    'company': 'DailyVee',\n",
       "    'date_range': 'Dec 2015 – Present',\n",
       "    'location': None,\n",
       "    'description': \"DailyVee is a 'daily' vlog I produce which captures behind-the-scenes footage of my life as a an HR-driven CEO, entrepreneur, and public figure. The vlog is released daily at 12:00 EST on YouTube and Facebook. DailyVee captures me in meetings with employees, client pitches, and traveling the world for business.\\n\\n    \\n…\\n\\n        see more\",\n",
       "    'li_company_url': 'https://www.linkedin.com/company/dailyvee/'},\n",
       "   {'title': 'Host',\n",
       "    'company': 'The #AskGaryVee Show',\n",
       "    'date_range': 'Jul 2014 – Present',\n",
       "    'location': 'NYC',\n",
       "    'description': 'The #AskGaryVee show is business Q&A series broadcast live on Facebook and Instagram, where I answer your questions about marketing, social media, and entrepreneurship. Want to get on the show? Tune in on Facebook and leave your name, number, location and phone-number or Tweet me your question with the hashtag #AskGaryVeeNotable guests include:Tony RobbinsJohn LegendArianna HuffingtonLewis HowesLogicJon TafferRyan Holiday Simon SinekChase JarvisCasey NeistatJake PaulJewelAnd more!\\n\\n    \\n…\\n\\n        see more',\n",
       "    'li_company_url': 'https://www.linkedin.com/company/askgaryvee/'},\n",
       "   {'title': 'Host',\n",
       "    'company': 'Wine Library TV',\n",
       "    'date_range': 'Feb 2006 – Aug 2011',\n",
       "    'location': '',\n",
       "    'description': 'I run Winelibrary and Winelibrary.com but became more known from Winelibrarytv.com. Winelibrarytv.com is a wine video blog that ran for 1,000 episodes. I was able to taste and review 1000s of wines from all over the world.',\n",
       "    'li_company_url': ''}],\n",
       "  'education': [],\n",
       "  'volunteering': [{'title': 'Board Member',\n",
       "    'company': 'Pencils of Promise',\n",
       "    'date_range': None,\n",
       "    'location': None,\n",
       "    'cause': None,\n",
       "    'description': None}]},\n",
       " 'skills': [{'name': 'Social Media', 'endorsements': '99+'},\n",
       "  {'name': 'Entrepreneurship', 'endorsements': '99+'},\n",
       "  {'name': 'Social Media Marketing', 'endorsements': '99+'},\n",
       "  {'name': 'Marketing', 'endorsements': '99+'},\n",
       "  {'name': 'Blogging', 'endorsements': '99+'},\n",
       "  {'name': 'Online Marketing', 'endorsements': '99+'},\n",
       "  {'name': 'Strategy', 'endorsements': '99+'},\n",
       "  {'name': 'Marketing Strategy', 'endorsements': '99+'},\n",
       "  {'name': 'Social Networking', 'endorsements': '99+'},\n",
       "  {'name': 'Business', 'endorsements': '99+'},\n",
       "  {'name': 'Wine', 'endorsements': '99+'},\n",
       "  {'name': 'Creative Direction', 'endorsements': '99+'},\n",
       "  {'name': 'Digital Marketing', 'endorsements': '99+'},\n",
       "  {'name': 'Online Advertising', 'endorsements': '99+'},\n",
       "  {'name': 'Start-ups', 'endorsements': '99+'},\n",
       "  {'name': 'Advertising', 'endorsements': '99+'},\n",
       "  {'name': 'Content Strategy', 'endorsements': '99+'},\n",
       "  {'name': 'Brand Development', 'endorsements': '99+'},\n",
       "  {'name': 'Digital Strategy', 'endorsements': '99+'},\n",
       "  {'name': 'Public Relations', 'endorsements': '99+'},\n",
       "  {'name': 'Entrepreneur', 'endorsements': '99+'},\n",
       "  {'name': 'SEO', 'endorsements': '99+'},\n",
       "  {'name': 'Digital Media', 'endorsements': '99+'},\n",
       "  {'name': 'Email Marketing', 'endorsements': '99+'},\n",
       "  {'name': 'Marketing Communications', 'endorsements': '99+'},\n",
       "  {'name': 'Video', 'endorsements': '99+'},\n",
       "  {'name': 'Entertainment', 'endorsements': '99+'},\n",
       "  {'name': 'business', 'endorsements': '99+'},\n",
       "  {'name': 'Wine Knowledge', 'endorsements': '99+'},\n",
       "  {'name': 'Mobile Marketing', 'endorsements': '99+'},\n",
       "  {'name': 'Social Media Strategist', 'endorsements': '99+'},\n",
       "  {'name': 'Television', 'endorsements': '99+'},\n",
       "  {'name': 'Social Marketing', 'endorsements': '99+'},\n",
       "  {'name': 'Trendspotting', 'endorsements': '99+'},\n",
       "  {'name': 'Integrated Marketing', 'endorsements': '99+'},\n",
       "  {'name': 'Social Media Measurement', 'endorsements': '99+'},\n",
       "  {'name': 'Small Business', 'endorsements': '99+'},\n",
       "  {'name': 'User Experience', 'endorsements': '99+'},\n",
       "  {'name': 'Football', 'endorsements': '99+'},\n",
       "  {'name': 'SEM', 'endorsements': '99+'},\n",
       "  {'name': 'Facebook', 'endorsements': '99+'},\n",
       "  {'name': 'YouTube', 'endorsements': '99+'},\n",
       "  {'name': 'Web 2.0', 'endorsements': '99+'},\n",
       "  {'name': 'Wordpress', 'endorsements': '99+'},\n",
       "  {'name': 'Leadership', 'endorsements': '99+'},\n",
       "  {'name': 'Public Speaking', 'endorsements': '99+'},\n",
       "  {'name': 'Customer Service', 'endorsements': '99+'},\n",
       "  {'name': 'Motivational Speaking', 'endorsements': '99+'},\n",
       "  {'name': 'Community Management', 'endorsements': '99+'},\n",
       "  {'name': 'New Media', 'endorsements': '99+'}],\n",
       " 'accomplishments': {'publications': [\"#AskGaryVee: One Entrepreneur's Take on Leadership, Social Media, and Self-Awareness\",\n",
       "   'Jab, Jab, Jab, Right Hook: How to Tell Your Story in a Noisy Social World',\n",
       "   'The Thank You Economy',\n",
       "   'Crush It!: Why NOW Is the Time to Cash In on Your Passion'],\n",
       "  'certifications': [],\n",
       "  'patents': [],\n",
       "  'courses': [],\n",
       "  'projects': [],\n",
       "  'honors': [\"Crain's 40 Under 40\",\n",
       "   'Fortune 40 Under 40',\n",
       "   'New York Times Profile'],\n",
       "  'test_scores': [],\n",
       "  'languages': [],\n",
       "  'organizations': []},\n",
       " 'interests': [\"JT O'Donnell\",\n",
       "  'The #AskGaryVee Show',\n",
       "  'Reid Hoffman',\n",
       "  'DailyVee',\n",
       "  'StrengthPortal',\n",
       "  'VaynerMedia']}"
      ]
     },
     "execution_count": 16,
     "metadata": {},
     "output_type": "execute_result"
    }
   ],
   "source": [
    "profile.to_dict()"
   ]
  },
  {
   "cell_type": "code",
   "execution_count": 17,
   "metadata": {},
   "outputs": [],
   "source": [
    "with CompanyScraper(\n",
    "        cookie='AQEDAS_CpVgAZJtdAAABctX1xfEAAAFy-gJJ8U0Aw3faemVsziA2wOqaZZoexUuShwyibcvMf3TuQK5qnTAAiJDpMxfs3B2'\n",
    "               'z0Fq0l-xdyf9d_0CJOcZ4gvLfL14thtyH2a6EbQXM-Ueh3tEQ00xiuXWA') as scraper:\n",
    "    profile = scraper.scrape(company='facebook')"
   ]
  },
  {
   "cell_type": "code",
   "execution_count": 19,
   "metadata": {},
   "outputs": [
    {
     "data": {
      "text/plain": [
       "['overview', 'jobs', 'life', 'insights']"
      ]
     },
     "execution_count": 19,
     "metadata": {},
     "output_type": "execute_result"
    }
   ],
   "source": [
    "profile.attributes"
   ]
  },
  {
   "cell_type": "code",
   "execution_count": 20,
   "metadata": {
    "scrolled": true
   },
   "outputs": [
    {
     "name": "stdout",
     "output_type": "stream",
     "text": [
      "[<dt class=\"org-page-details__definition-term t-14 t-black t-bold\">\n",
      "      Website\n",
      "    </dt>, <dt class=\"org-page-details__definition-term t-14 t-black t-bold\">\n",
      "      Industry\n",
      "    </dt>, <dt class=\"org-page-details__definition-term t-14 t-black t-bold\">\n",
      "      Company size\n",
      "    </dt>, <dt class=\"org-page-details__definition-term t-14 t-black t-bold\">\n",
      "        Headquarters\n",
      "      </dt>, <dt class=\"org-page-details__definition-term t-14 t-black t-bold\">\n",
      "      Type\n",
      "    </dt>, <dt class=\"org-page-details__definition-term t-14 t-black t-bold\">\n",
      "      Founded\n",
      "    </dt>, <dt class=\"org-page-details__definition-term t-14 t-black t-bold\">\n",
      "      Specialties\n",
      "    </dt>]\n",
      "[<dt class=\"org-page-details__definition-term t-14 t-black t-bold\">\n",
      "      Website\n",
      "    </dt>, <dt class=\"org-page-details__definition-term t-14 t-black t-bold\">\n",
      "      Industry\n",
      "    </dt>, <dt class=\"org-page-details__definition-term t-14 t-black t-bold\">\n",
      "        Headquarters\n",
      "      </dt>, <dt class=\"org-page-details__definition-term t-14 t-black t-bold\">\n",
      "      Type\n",
      "    </dt>, <dt class=\"org-page-details__definition-term t-14 t-black t-bold\">\n",
      "      Founded\n",
      "    </dt>, <dt class=\"org-page-details__definition-term t-14 t-black t-bold\">\n",
      "      Specialties\n",
      "    </dt>]\n",
      "{'description': 'Founded in 2004, Facebook’s mission is to give people the power to build community and bring the world closer together. Over 2 billion people use Facebook, Instagram, WhatsApp, or Messenger every month to stay connected with friends and family, to discover what’s going on in the world, and to share and express what matters to them. \\n\\nFacebook is defined by our unique culture – one that rewards impact. We encourage people to be bold and solve the problems they care most about. We work in small teams and move fast to develop new products, constantly iterating. The phrase “this journey is 1% finished” reminds us that we’ve only begun to fulfill our mission.\\n\\nAs we evolve our journey to bring the world closer together, we stay true to the same core values to guide the way we work and the decisions we make every step of the way: be open, be bold, move fast, focus on impact, and build social value.\\n\\nFor a full listing of our jobs, visit http://www.facebook.com/careers\\n\\nWe created this space on LinkedIn to share information about careers at Facebook. This includes employee stories, current openings, and inside looks at particular teams and initiatives. We welcome relevant comments and discussion, so please be respectful. We reserve the right to moderate content, including off-topic, inaccurate, spam comments and posts.\\n\\nIf you are seeking support for issues related to your Facebook account, please reference our Help Center (https://www.facebook.com/help) or Help Community (https://www.facebook.com/help/community).', 'name': 'Facebook', 'company_size': '10,001+ employees', 'website': 'http://www.facebook.com/careers', 'industry': 'Internet', 'headquarters': 'Menlo Park, CA', 'type': 'Public Company', 'founded': '2004', 'specialties': 'Connectivity, Artificial Intelligence, Virtual Reality, Machine Learning, Social Media, Augmented Reality, Marketing Science, Mobile Connectivity, and Open Compute'}\n"
     ]
    },
    {
     "data": {
      "text/plain": [
       "{'description': 'Founded in 2004, Facebook’s mission is to give people the power to build community and bring the world closer together. Over 2 billion people use Facebook, Instagram, WhatsApp, or Messenger every month to stay connected with friends and family, to discover what’s going on in the world, and to share and express what matters to them. \\n\\nFacebook is defined by our unique culture – one that rewards impact. We encourage people to be bold and solve the problems they care most about. We work in small teams and move fast to develop new products, constantly iterating. The phrase “this journey is 1% finished” reminds us that we’ve only begun to fulfill our mission.\\n\\nAs we evolve our journey to bring the world closer together, we stay true to the same core values to guide the way we work and the decisions we make every step of the way: be open, be bold, move fast, focus on impact, and build social value.\\n\\nFor a full listing of our jobs, visit http://www.facebook.com/careers\\n\\nWe created this space on LinkedIn to share information about careers at Facebook. This includes employee stories, current openings, and inside looks at particular teams and initiatives. We welcome relevant comments and discussion, so please be respectful. We reserve the right to moderate content, including off-topic, inaccurate, spam comments and posts.\\n\\nIf you are seeking support for issues related to your Facebook account, please reference our Help Center (https://www.facebook.com/help) or Help Community (https://www.facebook.com/help/community).',\n",
       " 'name': 'Facebook',\n",
       " 'company_size': '10,001+ employees',\n",
       " 'website': 'http://www.facebook.com/careers',\n",
       " 'industry': 'Internet',\n",
       " 'headquarters': 'Menlo Park, CA',\n",
       " 'type': 'Public Company',\n",
       " 'founded': '2004',\n",
       " 'specialties': 'Connectivity, Artificial Intelligence, Virtual Reality, Machine Learning, Social Media, Augmented Reality, Marketing Science, Mobile Connectivity, and Open Compute',\n",
       " 'num_employees': 69873,\n",
       " 'image': 'https://media-exp1.licdn.com/dms/image/C560BAQF8rE3JvZVsSQ/company-logo_200_200/0?e=1600905600&v=beta&t=AyJ0jjMyf-w0PI2QcqUruK93VXefa3PWOq1PD1F_h-o'}"
      ]
     },
     "execution_count": 20,
     "metadata": {},
     "output_type": "execute_result"
    }
   ],
   "source": [
    "profile.overview"
   ]
  },
  {
   "cell_type": "code",
   "execution_count": 23,
   "metadata": {},
   "outputs": [],
   "source": [
    "with ProfileScraper(\n",
    "        cookie='AQEDAS_CpVgAZJtdAAABctX1xfEAAAFy-gJJ8U0Aw3faemVsziA2wOqaZZoexUuShwyibcvMf3TuQK5qnTAAiJDpMxfs3B2'\n",
    "               'z0Fq0l-xdyf9d_0CJOcZ4gvLfL14thtyH2a6EbQXM-Ueh3tEQ00xiuXWA') as scraper:\n",
    "    rishabh = scraper.scrape(user='rishabh-singh-61b706114')"
   ]
  },
  {
   "cell_type": "code",
   "execution_count": 24,
   "metadata": {},
   "outputs": [
    {
     "data": {
      "text/plain": [
       "{'name': 'Rishabh Singh',\n",
       " 'headline': '#futureshaper',\n",
       " 'company': None,\n",
       " 'school': None,\n",
       " 'location': 'Bengaluru, Karnataka, India',\n",
       " 'summary': 'Experienced Field-Programmable Gate Arrays Engineer with a demonstrated history of working in the electronic manufacturing industry. Skilled in VHDL, Design Engineering, Verilog, Timing Closure, Field-Programmable Gate Arrays (FPGA), and SQL. Currently associated with Honeywell International Inc. Strong engineering professional with a Bachelor of Engineering (B.E.)Electronics and Communications Engineering.',\n",
       " 'image': '',\n",
       " 'followers': '1,280',\n",
       " 'email': 'rishabhsingh.150@gmail.com',\n",
       " 'phone': None,\n",
       " 'connected': None,\n",
       " 'websites': []}"
      ]
     },
     "execution_count": 24,
     "metadata": {},
     "output_type": "execute_result"
    }
   ],
   "source": [
    "rishabh.personal_info"
   ]
  }
 ],
 "metadata": {
  "kernelspec": {
   "display_name": "LinkedinBot",
   "language": "python",
   "name": "linkedinbot"
  },
  "language_info": {
   "codemirror_mode": {
    "name": "ipython",
    "version": 3
   },
   "file_extension": ".py",
   "mimetype": "text/x-python",
   "name": "python",
   "nbconvert_exporter": "python",
   "pygments_lexer": "ipython3",
   "version": "3.8.3"
  }
 },
 "nbformat": 4,
 "nbformat_minor": 4
}
