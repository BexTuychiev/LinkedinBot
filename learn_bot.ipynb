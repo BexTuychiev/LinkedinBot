{
 "cells": [
  {
   "cell_type": "code",
   "execution_count": 1,
   "metadata": {},
   "outputs": [],
   "source": [
    "from final import LinkedinBot"
   ]
  },
  {
   "cell_type": "code",
   "execution_count": 2,
   "metadata": {},
   "outputs": [
    {
     "name": "stdout",
     "output_type": "stream",
     "text": [
      "[<dt class=\"org-page-details__definition-term t-14 t-black t-bold\">\n",
      "      Website\n",
      "    </dt>, <dt class=\"org-page-details__definition-term t-14 t-black t-bold\">\n",
      "      Industry\n",
      "    </dt>, <dt class=\"org-page-details__definition-term t-14 t-black t-bold\">\n",
      "      Company size\n",
      "    </dt>, <dt class=\"org-page-details__definition-term t-14 t-black t-bold\">\n",
      "        Headquarters\n",
      "      </dt>, <dt class=\"org-page-details__definition-term t-14 t-black t-bold\">\n",
      "      Type\n",
      "    </dt>, <dt class=\"org-page-details__definition-term t-14 t-black t-bold\">\n",
      "      Founded\n",
      "    </dt>, <dt class=\"org-page-details__definition-term t-14 t-black t-bold\">\n",
      "      Specialties\n",
      "    </dt>]\n",
      "[<dt class=\"org-page-details__definition-term t-14 t-black t-bold\">\n",
      "      Website\n",
      "    </dt>, <dt class=\"org-page-details__definition-term t-14 t-black t-bold\">\n",
      "      Industry\n",
      "    </dt>, <dt class=\"org-page-details__definition-term t-14 t-black t-bold\">\n",
      "        Headquarters\n",
      "      </dt>, <dt class=\"org-page-details__definition-term t-14 t-black t-bold\">\n",
      "      Type\n",
      "    </dt>, <dt class=\"org-page-details__definition-term t-14 t-black t-bold\">\n",
      "      Founded\n",
      "    </dt>, <dt class=\"org-page-details__definition-term t-14 t-black t-bold\">\n",
      "      Specialties\n",
      "    </dt>]\n",
      "{'description': 'SpaceX designs, manufactures and launches the world’s most advanced rockets and spacecraft. The company was founded in 2002 by Elon Musk to revolutionize space transportation, with the ultimate goal of making life multiplanetary. \\r\\n\\r\\nSpaceX has gained worldwide attention for a series of historic milestones. It is the only private company ever to return a spacecraft from low-Earth orbit, which it first accomplished in December 2010. The company made history again in May 2012 when its Dragon spacecraft attached to the International Space Station, exchanged cargo payloads, and returned safely to Earth — a technically challenging feat previously accomplished only by governments. Since then Dragon has delivered cargo to and from the space station multiple times, providing regular cargo resupply missions for NASA.\\r\\n\\r\\nFor more information, visit www.spacex.com.', 'name': 'SpaceX', 'company_size': '1,001-5,000 employees', 'website': 'http://www.spacex.com', 'industry': 'Aviation & Aerospace', 'headquarters': 'Hawthorne, California', 'type': 'Privately Held', 'founded': '2002', 'specialties': 'Falcon 9 and Falcon Heavy Rockets, Dragon Cargo and Crew Spacecraft, Merlin Rocket Engines, Draco and SuperDraco Thrusters, PICA-X high performance heat shield material, and Satellite Development'}\n"
     ]
    }
   ],
   "source": [
    "bot = LinkedinBot(\n",
    "        cookie='AQEDAS_CpVgAZJtdAAABctX1xfEAAAFy-gJJ8U0Aw3faemVsziA2wOqaZZoexUuShwyibcvMf3TuQK5qnTAAiJDpMxfs3B2'\n",
    "               'z0Fq0l-xdyf9d_0CJOcZ4gvLfL14thtyH2a6EbQXM-Ueh3tEQ00xiuXWA', value='spacex', mode='company')"
   ]
  },
  {
   "cell_type": "code",
   "execution_count": 3,
   "metadata": {},
   "outputs": [
    {
     "data": {
      "text/plain": [
       "{'overview': {'description': 'SpaceX designs, manufactures and launches the world’s most advanced rockets and spacecraft. The company was founded in 2002 by Elon Musk to revolutionize space transportation, with the ultimate goal of making life multiplanetary. \\r\\n\\r\\nSpaceX has gained worldwide attention for a series of historic milestones. It is the only private company ever to return a spacecraft from low-Earth orbit, which it first accomplished in December 2010. The company made history again in May 2012 when its Dragon spacecraft attached to the International Space Station, exchanged cargo payloads, and returned safely to Earth — a technically challenging feat previously accomplished only by governments. Since then Dragon has delivered cargo to and from the space station multiple times, providing regular cargo resupply missions for NASA.\\r\\n\\r\\nFor more information, visit www.spacex.com.',\n",
       "  'name': 'SpaceX',\n",
       "  'company_size': '1,001-5,000 employees',\n",
       "  'website': 'http://www.spacex.com',\n",
       "  'industry': 'Aviation & Aerospace',\n",
       "  'headquarters': 'Hawthorne, California',\n",
       "  'type': 'Privately Held',\n",
       "  'founded': '2002',\n",
       "  'specialties': 'Falcon 9 and Falcon Heavy Rockets, Dragon Cargo and Crew Spacecraft, Merlin Rocket Engines, Draco and SuperDraco Thrusters, PICA-X high performance heat shield material, and Satellite Development',\n",
       "  'num_employees': 6508,\n",
       "  'image': 'https://media-exp1.licdn.com/dms/image/C560BAQEbqLQ-JE0vdQ/company-logo_200_200/0?e=1600905600&v=beta&t=UssIalg0HawiPBERBDWhG4_zVuD_pMDzfzgD4V6dGHY'},\n",
       " 'jobs': None,\n",
       " 'life': None,\n",
       " 'insights': {'6m change': None, '1y change': None, '2y change': None}}"
      ]
     },
     "execution_count": 3,
     "metadata": {},
     "output_type": "execute_result"
    }
   ],
   "source": [
    "bot.results"
   ]
  },
  {
   "cell_type": "code",
   "execution_count": 7,
   "metadata": {
    "scrolled": true
   },
   "outputs": [
    {
     "name": "stdout",
     "output_type": "stream",
     "text": [
      "[<dt class=\"org-page-details__definition-term t-14 t-black t-bold\">\n",
      "      Website\n",
      "    </dt>, <dt class=\"org-page-details__definition-term t-14 t-black t-bold\">\n",
      "      Industry\n",
      "    </dt>, <dt class=\"org-page-details__definition-term t-14 t-black t-bold\">\n",
      "      Company size\n",
      "    </dt>, <dt class=\"org-page-details__definition-term t-14 t-black t-bold\">\n",
      "        Headquarters\n",
      "      </dt>, <dt class=\"org-page-details__definition-term t-14 t-black t-bold\">\n",
      "      Type\n",
      "    </dt>, <dt class=\"org-page-details__definition-term t-14 t-black t-bold\">\n",
      "      Founded\n",
      "    </dt>, <dt class=\"org-page-details__definition-term t-14 t-black t-bold\">\n",
      "      Specialties\n",
      "    </dt>]\n",
      "[<dt class=\"org-page-details__definition-term t-14 t-black t-bold\">\n",
      "      Website\n",
      "    </dt>, <dt class=\"org-page-details__definition-term t-14 t-black t-bold\">\n",
      "      Industry\n",
      "    </dt>, <dt class=\"org-page-details__definition-term t-14 t-black t-bold\">\n",
      "        Headquarters\n",
      "      </dt>, <dt class=\"org-page-details__definition-term t-14 t-black t-bold\">\n",
      "      Type\n",
      "    </dt>, <dt class=\"org-page-details__definition-term t-14 t-black t-bold\">\n",
      "      Founded\n",
      "    </dt>, <dt class=\"org-page-details__definition-term t-14 t-black t-bold\">\n",
      "      Specialties\n",
      "    </dt>]\n",
      "{'description': 'SpaceX designs, manufactures and launches the world’s most advanced rockets and spacecraft. The company was founded in 2002 by Elon Musk to revolutionize space transportation, with the ultimate goal of making life multiplanetary. \\r\\n\\r\\nSpaceX has gained worldwide attention for a series of historic milestones. It is the only private company ever to return a spacecraft from low-Earth orbit, which it first accomplished in December 2010. The company made history again in May 2012 when its Dragon spacecraft attached to the International Space Station, exchanged cargo payloads, and returned safely to Earth — a technically challenging feat previously accomplished only by governments. Since then Dragon has delivered cargo to and from the space station multiple times, providing regular cargo resupply missions for NASA.\\r\\n\\r\\nFor more information, visit www.spacex.com.', 'name': 'SpaceX', 'company_size': '1,001-5,000 employees', 'website': 'http://www.spacex.com', 'industry': 'Aviation & Aerospace', 'headquarters': 'Hawthorne, California', 'type': 'Privately Held', 'founded': '2002', 'specialties': 'Falcon 9 and Falcon Heavy Rockets, Dragon Cargo and Crew Spacecraft, Merlin Rocket Engines, Draco and SuperDraco Thrusters, PICA-X high performance heat shield material, and Satellite Development'}\n"
     ]
    },
    {
     "data": {
      "text/plain": [
       "{'overview': {'description': 'SpaceX designs, manufactures and launches the world’s most advanced rockets and spacecraft. The company was founded in 2002 by Elon Musk to revolutionize space transportation, with the ultimate goal of making life multiplanetary. \\r\\n\\r\\nSpaceX has gained worldwide attention for a series of historic milestones. It is the only private company ever to return a spacecraft from low-Earth orbit, which it first accomplished in December 2010. The company made history again in May 2012 when its Dragon spacecraft attached to the International Space Station, exchanged cargo payloads, and returned safely to Earth — a technically challenging feat previously accomplished only by governments. Since then Dragon has delivered cargo to and from the space station multiple times, providing regular cargo resupply missions for NASA.\\r\\n\\r\\nFor more information, visit www.spacex.com.',\n",
       "  'name': 'SpaceX',\n",
       "  'company_size': '1,001-5,000 employees',\n",
       "  'website': 'http://www.spacex.com',\n",
       "  'industry': 'Aviation & Aerospace',\n",
       "  'headquarters': 'Hawthorne, California',\n",
       "  'type': 'Privately Held',\n",
       "  'founded': '2002',\n",
       "  'specialties': 'Falcon 9 and Falcon Heavy Rockets, Dragon Cargo and Crew Spacecraft, Merlin Rocket Engines, Draco and SuperDraco Thrusters, PICA-X high performance heat shield material, and Satellite Development',\n",
       "  'num_employees': 6508,\n",
       "  'image': 'https://media-exp1.licdn.com/dms/image/C560BAQEbqLQ-JE0vdQ/company-logo_200_200/0?e=1600905600&v=beta&t=UssIalg0HawiPBERBDWhG4_zVuD_pMDzfzgD4V6dGHY'},\n",
       " 'jobs': None,\n",
       " 'life': None,\n",
       " 'insights': {'6m change': None, '1y change': None, '2y change': None}}"
      ]
     },
     "execution_count": 7,
     "metadata": {},
     "output_type": "execute_result"
    }
   ],
   "source": [
    "data.to_dict()"
   ]
  },
  {
   "cell_type": "code",
   "execution_count": 2,
   "metadata": {},
   "outputs": [
    {
     "name": "stdout",
     "output_type": "stream",
     "text": [
      "Unable to determine current company...continuing\n"
     ]
    }
   ],
   "source": [
    "bot = LinkedinBot(\n",
    "        cookie='AQEDAS_CpVgAZJtdAAABctX1xfEAAAFy-gJJ8U0Aw3faemVsziA2wOqaZZoexUuShwyibcvMf3TuQK5qnTAAiJDpMxfs3B2'\n",
    "               'z0Fq0l-xdyf9d_0CJOcZ4gvLfL14thtyH2a6EbQXM-Ueh3tEQ00xiuXWA', value='spencernicol', mode='in')"
   ]
  },
  {
   "cell_type": "code",
   "execution_count": 3,
   "metadata": {},
   "outputs": [
    {
     "name": "stdout",
     "output_type": "stream",
     "text": [
      "{'name': 'Spencer Nicol'}\n"
     ]
    }
   ],
   "source": [
    "bot.personal_info('name')"
   ]
  },
  {
   "cell_type": "code",
   "execution_count": 4,
   "metadata": {},
   "outputs": [
    {
     "name": "stdout",
     "output_type": "stream",
     "text": [
      "{'education': []}\n"
     ]
    }
   ],
   "source": [
    "bot.get_experiences('education')"
   ]
  },
  {
   "cell_type": "code",
   "execution_count": 5,
   "metadata": {},
   "outputs": [],
   "source": [
    "bot.get_skills()"
   ]
  },
  {
   "cell_type": "code",
   "execution_count": 6,
   "metadata": {},
   "outputs": [
    {
     "data": {
      "text/plain": [
       "{'personal_info': {'name': 'Spencer Nicol',\n",
       "  'headline': 'UX & Product Designer',\n",
       "  'company': None,\n",
       "  'school': None,\n",
       "  'location': 'Pittsburgh, Pennsylvania, United States',\n",
       "  'summary': '',\n",
       "  'image': '',\n",
       "  'followers': '',\n",
       "  'email': 'spncr.nicol@gmail.com',\n",
       "  'phone': None,\n",
       "  'connected': 'March 24, 2020',\n",
       "  'websites': ['http://spencernicol.com'],\n",
       "  'current_company_link': ''},\n",
       " 'experiences': {'jobs': [], 'education': [], 'volunteering': []},\n",
       " 'skills': [],\n",
       " 'accomplishments': {'publications': [],\n",
       "  'certifications': [],\n",
       "  'patents': [],\n",
       "  'courses': [],\n",
       "  'projects': [],\n",
       "  'honors': [],\n",
       "  'test_scores': [],\n",
       "  'languages': [],\n",
       "  'organizations': []},\n",
       " 'interests': []}"
      ]
     },
     "execution_count": 6,
     "metadata": {},
     "output_type": "execute_result"
    }
   ],
   "source": [
    "bot.results"
   ]
  },
  {
   "cell_type": "code",
   "execution_count": null,
   "metadata": {},
   "outputs": [],
   "source": []
  }
 ],
 "metadata": {
  "kernelspec": {
   "display_name": "LinkedinBot",
   "language": "python",
   "name": "linkedinbot"
  },
  "language_info": {
   "codemirror_mode": {
    "name": "ipython",
    "version": 3
   },
   "file_extension": ".py",
   "mimetype": "text/x-python",
   "name": "python",
   "nbconvert_exporter": "python",
   "pygments_lexer": "ipython3",
   "version": "3.8.3"
  }
 },
 "nbformat": 4,
 "nbformat_minor": 4
}
