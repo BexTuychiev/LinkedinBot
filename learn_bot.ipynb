{
 "cells": [
  {
   "cell_type": "code",
   "execution_count": 38,
   "metadata": {},
   "outputs": [],
   "source": [
    "from final import LinkedinBot\n",
    "from scrape_linkedin import ProfileScraper"
   ]
  },
  {
   "cell_type": "code",
   "execution_count": 2,
   "metadata": {},
   "outputs": [
    {
     "name": "stdout",
     "output_type": "stream",
     "text": [
      "[<dt class=\"org-page-details__definition-term t-14 t-black t-bold\">\n",
      "      Website\n",
      "    </dt>, <dt class=\"org-page-details__definition-term t-14 t-black t-bold\">\n",
      "      Industry\n",
      "    </dt>, <dt class=\"org-page-details__definition-term t-14 t-black t-bold\">\n",
      "      Company size\n",
      "    </dt>, <dt class=\"org-page-details__definition-term t-14 t-black t-bold\">\n",
      "        Headquarters\n",
      "      </dt>, <dt class=\"org-page-details__definition-term t-14 t-black t-bold\">\n",
      "      Type\n",
      "    </dt>, <dt class=\"org-page-details__definition-term t-14 t-black t-bold\">\n",
      "      Founded\n",
      "    </dt>, <dt class=\"org-page-details__definition-term t-14 t-black t-bold\">\n",
      "      Specialties\n",
      "    </dt>]\n",
      "[<dt class=\"org-page-details__definition-term t-14 t-black t-bold\">\n",
      "      Website\n",
      "    </dt>, <dt class=\"org-page-details__definition-term t-14 t-black t-bold\">\n",
      "      Industry\n",
      "    </dt>, <dt class=\"org-page-details__definition-term t-14 t-black t-bold\">\n",
      "        Headquarters\n",
      "      </dt>, <dt class=\"org-page-details__definition-term t-14 t-black t-bold\">\n",
      "      Type\n",
      "    </dt>, <dt class=\"org-page-details__definition-term t-14 t-black t-bold\">\n",
      "      Founded\n",
      "    </dt>, <dt class=\"org-page-details__definition-term t-14 t-black t-bold\">\n",
      "      Specialties\n",
      "    </dt>]\n",
      "{'description': 'SpaceX designs, manufactures and launches the world’s most advanced rockets and spacecraft. The company was founded in 2002 by Elon Musk to revolutionize space transportation, with the ultimate goal of making life multiplanetary. \\r\\n\\r\\nSpaceX has gained worldwide attention for a series of historic milestones. It is the only private company ever to return a spacecraft from low-Earth orbit, which it first accomplished in December 2010. The company made history again in May 2012 when its Dragon spacecraft attached to the International Space Station, exchanged cargo payloads, and returned safely to Earth — a technically challenging feat previously accomplished only by governments. Since then Dragon has delivered cargo to and from the space station multiple times, providing regular cargo resupply missions for NASA.\\r\\n\\r\\nFor more information, visit www.spacex.com.', 'name': 'SpaceX', 'company_size': '1,001-5,000 employees', 'website': 'http://www.spacex.com', 'industry': 'Aviation & Aerospace', 'headquarters': 'Hawthorne, California', 'type': 'Privately Held', 'founded': '2002', 'specialties': 'Falcon 9 and Falcon Heavy Rockets, Dragon Cargo and Crew Spacecraft, Merlin Rocket Engines, Draco and SuperDraco Thrusters, PICA-X high performance heat shield material, and Satellite Development'}\n"
     ]
    }
   ],
   "source": [
    "bot = LinkedinBot(\n",
    "        cookie='AQEDAS_CpVgAZJtdAAABctX1xfEAAAFy-gJJ8U0Aw3faemVsziA2wOqaZZoexUuShwyibcvMf3TuQK5qnTAAiJDpMxfs3B2'\n",
    "               'z0Fq0l-xdyf9d_0CJOcZ4gvLfL14thtyH2a6EbQXM-Ueh3tEQ00xiuXWA', value='spacex', mode='company')"
   ]
  },
  {
   "cell_type": "code",
   "execution_count": 3,
   "metadata": {
    "scrolled": true
   },
   "outputs": [
    {
     "data": {
      "text/plain": [
       "{'overview': {'description': 'SpaceX designs, manufactures and launches the world’s most advanced rockets and spacecraft. The company was founded in 2002 by Elon Musk to revolutionize space transportation, with the ultimate goal of making life multiplanetary. \\r\\n\\r\\nSpaceX has gained worldwide attention for a series of historic milestones. It is the only private company ever to return a spacecraft from low-Earth orbit, which it first accomplished in December 2010. The company made history again in May 2012 when its Dragon spacecraft attached to the International Space Station, exchanged cargo payloads, and returned safely to Earth — a technically challenging feat previously accomplished only by governments. Since then Dragon has delivered cargo to and from the space station multiple times, providing regular cargo resupply missions for NASA.\\r\\n\\r\\nFor more information, visit www.spacex.com.',\n",
       "  'name': 'SpaceX',\n",
       "  'company_size': '1,001-5,000 employees',\n",
       "  'website': 'http://www.spacex.com',\n",
       "  'industry': 'Aviation & Aerospace',\n",
       "  'headquarters': 'Hawthorne, California',\n",
       "  'type': 'Privately Held',\n",
       "  'founded': '2002',\n",
       "  'specialties': 'Falcon 9 and Falcon Heavy Rockets, Dragon Cargo and Crew Spacecraft, Merlin Rocket Engines, Draco and SuperDraco Thrusters, PICA-X high performance heat shield material, and Satellite Development',\n",
       "  'num_employees': 6508,\n",
       "  'image': 'https://media-exp1.licdn.com/dms/image/C560BAQEbqLQ-JE0vdQ/company-logo_200_200/0?e=1600905600&v=beta&t=UssIalg0HawiPBERBDWhG4_zVuD_pMDzfzgD4V6dGHY'},\n",
       " 'jobs': None,\n",
       " 'life': None,\n",
       " 'insights': {'6m change': None, '1y change': None, '2y change': None}}"
      ]
     },
     "execution_count": 3,
     "metadata": {},
     "output_type": "execute_result"
    }
   ],
   "source": [
    "bot.results"
   ]
  },
  {
   "cell_type": "code",
   "execution_count": 6,
   "metadata": {
    "scrolled": true
   },
   "outputs": [
    {
     "name": "stdout",
     "output_type": "stream",
     "text": [
      "No field named good. Possible fields include: ['description', 'name', 'company_size', 'website', 'industry', 'headquarters', 'type', 'specialties', 'num_employees', 'image']\n"
     ]
    }
   ],
   "source": [
    "bot.get_overview('good')"
   ]
  },
  {
   "cell_type": "code",
   "execution_count": 7,
   "metadata": {},
   "outputs": [
    {
     "name": "stdout",
     "output_type": "stream",
     "text": [
      "None\n"
     ]
    }
   ],
   "source": [
    "bot.get_jobs()"
   ]
  },
  {
   "cell_type": "code",
   "execution_count": 8,
   "metadata": {},
   "outputs": [
    {
     "name": "stdout",
     "output_type": "stream",
     "text": [
      "None\n"
     ]
    }
   ],
   "source": [
    "bot.get_life_at_company()"
   ]
  },
  {
   "cell_type": "code",
   "execution_count": 9,
   "metadata": {},
   "outputs": [
    {
     "ename": "ValueError",
     "evalue": "too many values to unpack (expected 2)",
     "output_type": "error",
     "traceback": [
      "\u001b[1;31m---------------------------------------------------------------------------\u001b[0m",
      "\u001b[1;31mValueError\u001b[0m                                Traceback (most recent call last)",
      "\u001b[1;32m<ipython-input-9-9590718f29ca>\u001b[0m in \u001b[0;36m<module>\u001b[1;34m\u001b[0m\n\u001b[1;32m----> 1\u001b[1;33m \u001b[0mbot\u001b[0m\u001b[1;33m.\u001b[0m\u001b[0mget_company_insights\u001b[0m\u001b[1;33m(\u001b[0m\u001b[1;33m)\u001b[0m\u001b[1;33m\u001b[0m\u001b[1;33m\u001b[0m\u001b[0m\n\u001b[0m",
      "\u001b[1;32m~\\Desktop\\PROJECTS\\LinkedinBot\\final.py\u001b[0m in \u001b[0;36mget_company_insights\u001b[1;34m(self)\u001b[0m\n\u001b[0;32m    182\u001b[0m         \u001b[1;31m# Check for the mode of the target information\u001b[0m\u001b[1;33m\u001b[0m\u001b[1;33m\u001b[0m\u001b[1;33m\u001b[0m\u001b[0m\n\u001b[0;32m    183\u001b[0m         \u001b[1;32mif\u001b[0m \u001b[0mself\u001b[0m\u001b[1;33m.\u001b[0m\u001b[0mmode\u001b[0m\u001b[1;33m.\u001b[0m\u001b[0mlower\u001b[0m\u001b[1;33m(\u001b[0m\u001b[1;33m)\u001b[0m \u001b[1;33m==\u001b[0m \u001b[1;34m'company'\u001b[0m\u001b[1;33m:\u001b[0m\u001b[1;33m\u001b[0m\u001b[1;33m\u001b[0m\u001b[0m\n\u001b[1;32m--> 184\u001b[1;33m             \u001b[1;32mfor\u001b[0m \u001b[0mfield_name\u001b[0m\u001b[1;33m,\u001b[0m \u001b[0mvalue\u001b[0m \u001b[1;32min\u001b[0m \u001b[0mself\u001b[0m\u001b[1;33m.\u001b[0m\u001b[0mresults\u001b[0m\u001b[1;33m[\u001b[0m\u001b[1;34m'insights'\u001b[0m\u001b[1;33m]\u001b[0m\u001b[1;33m:\u001b[0m\u001b[1;33m\u001b[0m\u001b[1;33m\u001b[0m\u001b[0m\n\u001b[0m\u001b[0;32m    185\u001b[0m                 \u001b[0mprint\u001b[0m\u001b[1;33m(\u001b[0m\u001b[1;33m{\u001b[0m\u001b[0mfield_name\u001b[0m\u001b[1;33m:\u001b[0m \u001b[0mvalue\u001b[0m\u001b[1;33m}\u001b[0m\u001b[1;33m)\u001b[0m\u001b[1;33m\u001b[0m\u001b[1;33m\u001b[0m\u001b[0m\n\u001b[0;32m    186\u001b[0m         \u001b[1;32melse\u001b[0m\u001b[1;33m:\u001b[0m\u001b[1;33m\u001b[0m\u001b[1;33m\u001b[0m\u001b[0m\n",
      "\u001b[1;31mValueError\u001b[0m: too many values to unpack (expected 2)"
     ]
    }
   ],
   "source": [
    "bot.get_company_insights()"
   ]
  },
  {
   "cell_type": "code",
   "execution_count": 22,
   "metadata": {},
   "outputs": [
    {
     "name": "stdout",
     "output_type": "stream",
     "text": [
      "Unable to determine current company...continuing\n"
     ]
    }
   ],
   "source": [
    "bot = LinkedinBot(\n",
    "        cookie='AQEDAS_CpVgAZJtdAAABctX1xfEAAAFy-gJJ8U0Aw3faemVsziA2wOqaZZoexUuShwyibcvMf3TuQK5qnTAAiJDpMxfs3B2'\n",
    "               'z0Fq0l-xdyf9d_0CJOcZ4gvLfL14thtyH2a6EbQXM-Ueh3tEQ00xiuXWA', value='garyvaynerchuk', mode='in')"
   ]
  },
  {
   "cell_type": "code",
   "execution_count": 31,
   "metadata": {},
   "outputs": [
    {
     "name": "stdout",
     "output_type": "stream",
     "text": [
      "{'headline': 'Chairman of VaynerX, CEO of VaynerMedia, 5-Time NYT Bestselling Author'}\n"
     ]
    }
   ],
   "source": [
    "bot.personal_info('headline')"
   ]
  },
  {
   "cell_type": "code",
   "execution_count": 35,
   "metadata": {},
   "outputs": [
    {
     "name": "stdout",
     "output_type": "stream",
     "text": [
      "{'volunteering': []}\n"
     ]
    }
   ],
   "source": [
    "bot.get_experiences('volunteering')"
   ]
  },
  {
   "cell_type": "code",
   "execution_count": 36,
   "metadata": {},
   "outputs": [],
   "source": [
    "bot.get_skills()"
   ]
  },
  {
   "cell_type": "code",
   "execution_count": 37,
   "metadata": {},
   "outputs": [
    {
     "data": {
      "text/plain": [
       "{'personal_info': {'name': 'Gary Vaynerchuk',\n",
       "  'headline': 'Chairman of VaynerX, CEO of VaynerMedia, 5-Time NYT Bestselling Author',\n",
       "  'company': None,\n",
       "  'school': None,\n",
       "  'location': 'New York, New York',\n",
       "  'summary': '',\n",
       "  'image': '',\n",
       "  'followers': '',\n",
       "  'email': None,\n",
       "  'phone': None,\n",
       "  'connected': None,\n",
       "  'websites': ['https://www.youtube.com/garyvee',\n",
       "   'https://www.garyvaynerchuk.com/books',\n",
       "   'https://www.garyvaynerchuk.com/hire-me/'],\n",
       "  'current_company_link': ''},\n",
       " 'experiences': {'jobs': [], 'education': [], 'volunteering': []},\n",
       " 'skills': [],\n",
       " 'accomplishments': {'publications': [],\n",
       "  'certifications': [],\n",
       "  'patents': [],\n",
       "  'courses': [],\n",
       "  'projects': [],\n",
       "  'honors': [],\n",
       "  'test_scores': [],\n",
       "  'languages': [],\n",
       "  'organizations': []},\n",
       " 'interests': []}"
      ]
     },
     "execution_count": 37,
     "metadata": {},
     "output_type": "execute_result"
    }
   ],
   "source": [
    "bot.results"
   ]
  },
  {
   "cell_type": "code",
   "execution_count": 39,
   "metadata": {},
   "outputs": [],
   "source": [
    "with ProfileScraper('AQEDAS_CpVgAZJtdAAABctX1xfEAAAFy-gJJ8U0Aw3faemVsziA2wOqaZZoexUuShwyibcvMf3TuQK5qnTAAiJDpMxfs3B2'\n",
    "               'z0Fq0l-xdyf9d_0CJOcZ4gvLfL14thtyH2a6EbQXM-Ueh3tEQ00xiuXWA') as scraper:\n",
    "    data = scraper.scrape(user='garyvaynerchuk')"
   ]
  },
  {
   "cell_type": "code",
   "execution_count": 40,
   "metadata": {},
   "outputs": [
    {
     "data": {
      "text/plain": [
       "{'personal_info': {'name': 'Gary Vaynerchuk',\n",
       "  'headline': 'Chairman of VaynerX, CEO of VaynerMedia, 5-Time NYT Bestselling Author',\n",
       "  'company': None,\n",
       "  'school': None,\n",
       "  'location': 'New York, New York',\n",
       "  'summary': \"Gary Vaynerchuk is the chairman of VaynerX, a modern-day media and communications holding company and the active CEO of VaynerMedia, a full-service advertising agency servicing Fortune 100 clients across the company’s 4 locations. In addition to VaynerMedia, VaynerX also includes Gallery Media Group, which houses women’s lifestyle brand PureWow and men's lifestyle brand ONE37pm. In addition to running VaynerMedia, Gary also serves as a partner in the athlete representation agency VaynerSports, cannabis-focused branding and marketing agency Green Street and restaurant reservations app Resy.Gary is a board/advisory member of Ad Council and Pencils of Promise, and is a longtime Well Member of Charity:Water.Gary is a highly sought after public speaker, a 5-time New York Times bestselling author, as well as a prolific angel investor with early investments in companies such as Facebook, Twitter, Tumblr, Venmo, and Uber.Gary is currently the subject of DailyVee, an online documentary series highlighting what it’s like to be a CEO and public figure in today’s digital world, as well the host of The GaryVee Audio Experience, a top 100 global podcast, and host of #AskGaryVee, a business and advice Q&A show which can be found on both YouTube and Facebook.Gary also appeared as judge in Apple’s first original series “Planet of the Apps” alongside Gwyneth Paltrow, Jessica Alba and Will.i.am.\",\n",
       "  'image': '',\n",
       "  'followers': '4,115,169',\n",
       "  'email': None,\n",
       "  'phone': None,\n",
       "  'connected': None,\n",
       "  'websites': ['https://www.youtube.com/garyvee',\n",
       "   'https://www.garyvaynerchuk.com/books',\n",
       "   'https://www.garyvaynerchuk.com/hire-me/'],\n",
       "  'current_company_link': 'https://www.linkedin.com/company/vaynermedia/'},\n",
       " 'experiences': {'jobs': [{'title': 'CEO',\n",
       "    'company': 'VaynerMedia',\n",
       "    'date_range': 'Apr 2009 – Present',\n",
       "    'location': 'New York City',\n",
       "    'description': \"I'm the CEO of a full-service digital agency built for the now. We partner with clients to drive better business outcomes with best-in-class video production, media planning, distribution, influencer marketing, Google & Alexa voice services, and everything in between.We have grown from 0-800+ with locations in New York, Los Angeles, London and Chattanooga in the last 8 years. We work with some of the biggest companies in the world including GE, PepsiCo, ABinBev, Chase, Unilever, USA, Syfy, Mondelez, Toyota, Diageo and Johnson's Our specialties are: Full Service CreativePaid MediaInfluencer MarketingIoT & VoiceeCommerceVaynerTalent (Personal Branding)4D’s (In House Consulting)You can view some of our campaigns for big-name brands here: http://vaynermedia.com/case-studies/\\n\\n    \\n…\\n\\n        see more\",\n",
       "    'li_company_url': 'https://www.linkedin.com/company/vaynermedia/'},\n",
       "   {'title': 'Co-Founder',\n",
       "    'company': 'VaynerSports',\n",
       "    'date_range': 'Jan 2016 – Present',\n",
       "    'location': 'Greater New York City Area',\n",
       "    'description': 'VaynerSports is a full-service athlete representation agency that guides players through a variety of issues involving their professional career. We are improving the level of service beyond what any athlete has experienced in the industry thus far, one client at a time.',\n",
       "    'li_company_url': 'https://www.linkedin.com/company/vaynersports/'},\n",
       "   {'title': 'Co-Founder',\n",
       "    'company': 'Vayner/RSE',\n",
       "    'date_range': 'Feb 2014 – Present',\n",
       "    'location': 'New York City',\n",
       "    'description': 'I was an angel investor in companies like Facebook, Twitter, Tumblr, Uber, and Birchbox before eventually co-founding VaynerRSE, a 25M New York-based venture capital firm specializing in seed-stage investments.Partners include: Phil Toronto, AJ Vaynerchuk, Matt Higgins and Kerry KelloggOur portfolio includes: Medium, CoinBase, Birchbox, Snap, Resy, Beme, Breather, Shyp and more.\\n\\n    \\n…\\n\\n        see more',\n",
       "    'li_company_url': 'https://www.linkedin.com/company/vaynerrse/'},\n",
       "   {'title': 'Host/Producer',\n",
       "    'company': 'DailyVee',\n",
       "    'date_range': 'Dec 2015 – Present',\n",
       "    'location': None,\n",
       "    'description': \"DailyVee is a 'daily' vlog I produce which captures behind-the-scenes footage of my life as a an HR-driven CEO, entrepreneur, and public figure. The vlog is released daily at 12:00 EST on YouTube and Facebook. DailyVee captures me in meetings with employees, client pitches, and traveling the world for business.\\n\\n    \\n…\\n\\n        see more\",\n",
       "    'li_company_url': 'https://www.linkedin.com/company/dailyvee/'},\n",
       "   {'title': 'Host',\n",
       "    'company': 'The #AskGaryVee Show',\n",
       "    'date_range': 'Jul 2014 – Present',\n",
       "    'location': 'NYC',\n",
       "    'description': 'The #AskGaryVee show is business Q&A series broadcast live on Facebook and Instagram, where I answer your questions about marketing, social media, and entrepreneurship. Want to get on the show? Tune in on Facebook and leave your name, number, location and phone-number or Tweet me your question with the hashtag #AskGaryVeeNotable guests include:Tony RobbinsJohn LegendArianna HuffingtonLewis HowesLogicJon TafferRyan Holiday Simon SinekChase JarvisCasey NeistatJake PaulJewelAnd more!\\n\\n    \\n…\\n\\n        see more',\n",
       "    'li_company_url': 'https://www.linkedin.com/company/askgaryvee/'},\n",
       "   {'title': 'Host',\n",
       "    'company': 'Wine Library TV',\n",
       "    'date_range': 'Feb 2006 – Aug 2011',\n",
       "    'location': '',\n",
       "    'description': 'I run Winelibrary and Winelibrary.com but became more known from Winelibrarytv.com. Winelibrarytv.com is a wine video blog that ran for 1,000 episodes. I was able to taste and review 1000s of wines from all over the world.',\n",
       "    'li_company_url': ''}],\n",
       "  'education': [],\n",
       "  'volunteering': [{'title': 'Board Member',\n",
       "    'company': 'Pencils of Promise',\n",
       "    'date_range': None,\n",
       "    'location': None,\n",
       "    'cause': None,\n",
       "    'description': None}]},\n",
       " 'skills': [{'name': 'Social Media', 'endorsements': '99+'},\n",
       "  {'name': 'Entrepreneurship', 'endorsements': '99+'},\n",
       "  {'name': 'Social Media Marketing', 'endorsements': '99+'},\n",
       "  {'name': 'Marketing', 'endorsements': '99+'},\n",
       "  {'name': 'Blogging', 'endorsements': '99+'},\n",
       "  {'name': 'Online Marketing', 'endorsements': '99+'},\n",
       "  {'name': 'Strategy', 'endorsements': '99+'},\n",
       "  {'name': 'Marketing Strategy', 'endorsements': '99+'},\n",
       "  {'name': 'Social Networking', 'endorsements': '99+'},\n",
       "  {'name': 'Business', 'endorsements': '99+'},\n",
       "  {'name': 'Wine', 'endorsements': '99+'},\n",
       "  {'name': 'Creative Direction', 'endorsements': '99+'},\n",
       "  {'name': 'Digital Marketing', 'endorsements': '99+'},\n",
       "  {'name': 'Online Advertising', 'endorsements': '99+'},\n",
       "  {'name': 'Start-ups', 'endorsements': '99+'},\n",
       "  {'name': 'Advertising', 'endorsements': '99+'},\n",
       "  {'name': 'Content Strategy', 'endorsements': '99+'},\n",
       "  {'name': 'Brand Development', 'endorsements': '99+'},\n",
       "  {'name': 'Digital Strategy', 'endorsements': '99+'},\n",
       "  {'name': 'Public Relations', 'endorsements': '99+'},\n",
       "  {'name': 'Entrepreneur', 'endorsements': '99+'},\n",
       "  {'name': 'SEO', 'endorsements': '99+'},\n",
       "  {'name': 'Digital Media', 'endorsements': '99+'},\n",
       "  {'name': 'Email Marketing', 'endorsements': '99+'},\n",
       "  {'name': 'Marketing Communications', 'endorsements': '99+'},\n",
       "  {'name': 'Video', 'endorsements': '99+'},\n",
       "  {'name': 'Entertainment', 'endorsements': '99+'},\n",
       "  {'name': 'business', 'endorsements': '99+'},\n",
       "  {'name': 'Wine Knowledge', 'endorsements': '99+'},\n",
       "  {'name': 'Mobile Marketing', 'endorsements': '99+'},\n",
       "  {'name': 'Social Media Strategist', 'endorsements': '99+'},\n",
       "  {'name': 'Television', 'endorsements': '99+'},\n",
       "  {'name': 'Social Marketing', 'endorsements': '99+'},\n",
       "  {'name': 'Trendspotting', 'endorsements': '99+'},\n",
       "  {'name': 'Integrated Marketing', 'endorsements': '99+'},\n",
       "  {'name': 'Social Media Measurement', 'endorsements': '99+'},\n",
       "  {'name': 'Small Business', 'endorsements': '99+'},\n",
       "  {'name': 'User Experience', 'endorsements': '99+'},\n",
       "  {'name': 'Football', 'endorsements': '99+'},\n",
       "  {'name': 'SEM', 'endorsements': '99+'},\n",
       "  {'name': 'Facebook', 'endorsements': '99+'},\n",
       "  {'name': 'YouTube', 'endorsements': '99+'},\n",
       "  {'name': 'Web 2.0', 'endorsements': '99+'},\n",
       "  {'name': 'Wordpress', 'endorsements': '99+'},\n",
       "  {'name': 'Leadership', 'endorsements': '99+'},\n",
       "  {'name': 'Public Speaking', 'endorsements': '99+'},\n",
       "  {'name': 'Customer Service', 'endorsements': '99+'},\n",
       "  {'name': 'Motivational Speaking', 'endorsements': '99+'},\n",
       "  {'name': 'Community Management', 'endorsements': '99+'},\n",
       "  {'name': 'New Media', 'endorsements': '99+'}],\n",
       " 'accomplishments': {'publications': [\"#AskGaryVee: One Entrepreneur's Take on Leadership, Social Media, and Self-Awareness\",\n",
       "   'Jab, Jab, Jab, Right Hook: How to Tell Your Story in a Noisy Social World',\n",
       "   'The Thank You Economy',\n",
       "   'Crush It!: Why NOW Is the Time to Cash In on Your Passion'],\n",
       "  'certifications': [],\n",
       "  'patents': [],\n",
       "  'courses': [],\n",
       "  'projects': [],\n",
       "  'honors': [\"Crain's 40 Under 40\",\n",
       "   'Fortune 40 Under 40',\n",
       "   'New York Times Profile'],\n",
       "  'test_scores': [],\n",
       "  'languages': [],\n",
       "  'organizations': []},\n",
       " 'interests': ['StrengthPortal',\n",
       "  'Wine Library',\n",
       "  'Reid Hoffman',\n",
       "  'Vayner/RSE',\n",
       "  'DailyVee',\n",
       "  'Satya Nadella']}"
      ]
     },
     "execution_count": 40,
     "metadata": {},
     "output_type": "execute_result"
    }
   ],
   "source": [
    "data.to_dict()"
   ]
  }
 ],
 "metadata": {
  "kernelspec": {
   "display_name": "LinkedinBot",
   "language": "python",
   "name": "linkedinbot"
  },
  "language_info": {
   "codemirror_mode": {
    "name": "ipython",
    "version": 3
   },
   "file_extension": ".py",
   "mimetype": "text/x-python",
   "name": "python",
   "nbconvert_exporter": "python",
   "pygments_lexer": "ipython3",
   "version": "3.8.3"
  }
 },
 "nbformat": 4,
 "nbformat_minor": 4
}
