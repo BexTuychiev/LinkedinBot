{
 "cells": [
  {
   "cell_type": "code",
   "execution_count": 1,
   "metadata": {},
   "outputs": [],
   "source": [
    "import os, random, time\n",
    "from selenium import webdriver\n",
    "from bs4 import BeautifulSoup"
   ]
  },
  {
   "cell_type": "code",
   "execution_count": 2,
   "metadata": {},
   "outputs": [],
   "source": [
    "browser = webdriver.Chrome('driver/chromedriver.exe')\n",
    "browser.get('https://www.linkedin.com/uas/login')\n",
    "with open('config.txt') as file:\n",
    "    lines = file.readlines()\n",
    "    username = lines[0]\n",
    "    password = lines[1]"
   ]
  },
  {
   "cell_type": "code",
   "execution_count": 3,
   "metadata": {},
   "outputs": [],
   "source": [
    "# Locate username input field and pass the username\n",
    "username_input = browser.find_element_by_id('username')\n",
    "username_input.send_keys(username)"
   ]
  },
  {
   "cell_type": "code",
   "execution_count": 4,
   "metadata": {},
   "outputs": [],
   "source": [
    "# Locate password input field and pass the user password\n",
    "password_input = browser.find_element_by_id('password')\n",
    "password_input.send_keys(password)"
   ]
  },
  {
   "cell_type": "code",
   "execution_count": 5,
   "metadata": {},
   "outputs": [],
   "source": [
    "# login\n",
    "password_input.submit()\n",
    "time.sleep(3)"
   ]
  },
  {
   "cell_type": "code",
   "execution_count": 6,
   "metadata": {},
   "outputs": [],
   "source": [
    "# Maximize window\n",
    "browser.maximize_window()"
   ]
  },
  {
   "cell_type": "code",
   "execution_count": 7,
   "metadata": {},
   "outputs": [],
   "source": [
    "link = 'https://www.linkedin.com/in/rishabh-singh-61b706114/'\n",
    "browser.get(link)"
   ]
  },
  {
   "cell_type": "code",
   "execution_count": 8,
   "metadata": {},
   "outputs": [],
   "source": [
    "scroll_pause_time = 5\n",
    "\n",
    "# Get scroll height\n",
    "last_height = browser.execute_script(\"return document.body.scrollHeight\")\n",
    "for i in range(3):\n",
    "    # Scroll down to bottom\n",
    "    browser.execute_script(\"window.scrollTo(0, document.body.scrollHeight);\")\n",
    "    \n",
    "    # Wait for a moment\n",
    "    time.sleep(scroll_pause_time)\n",
    "    \n",
    "    # Calculate new scroll height and compare with last scroll height\n",
    "    new_height = browser.execute_script(\"return document.body.scrollHeight\")\n",
    "    if new_height == last_height:\n",
    "        break\n",
    "    last_height = new_height"
   ]
  },
  {
   "cell_type": "code",
   "execution_count": 9,
   "metadata": {},
   "outputs": [],
   "source": [
    "element = browser.find_element_by_id('line-clamp-show-more-button')\n",
    "if element:\n",
    "    browser.execute_script(\"arguments[0].click();\", element)\n",
    "time.sleep(1)"
   ]
  },
  {
   "cell_type": "code",
   "execution_count": 10,
   "metadata": {},
   "outputs": [],
   "source": [
    "# Profile page full source\n",
    "src = browser.page_source\n",
    "soup = BeautifulSoup(src, 'lxml')"
   ]
  },
  {
   "cell_type": "code",
   "execution_count": 11,
   "metadata": {},
   "outputs": [],
   "source": [
    "# Get the profile section\n",
    "profile_section_div = soup.find('div', {'class': 'flex-1 mr5'})"
   ]
  },
  {
   "cell_type": "code",
   "execution_count": 12,
   "metadata": {},
   "outputs": [],
   "source": [
    "# Name\n",
    "name_loc = profile_section_div.find_all('ul')\n",
    "name = name_loc[0].find('li').get_text().strip()\n",
    "# Location\n",
    "location = name_loc[1].find('li').get_text().strip()"
   ]
  },
  {
   "cell_type": "code",
   "execution_count": 13,
   "metadata": {},
   "outputs": [
    {
     "data": {
      "text/plain": [
       "'#futureshaper'"
      ]
     },
     "execution_count": 13,
     "metadata": {},
     "output_type": "execute_result"
    }
   ],
   "source": [
    "title = profile_section_div.find('h2').get_text().strip()\n",
    "title"
   ]
  },
  {
   "cell_type": "code",
   "execution_count": 14,
   "metadata": {},
   "outputs": [
    {
     "data": {
      "text/plain": [
       "'500+ connections'"
      ]
     },
     "execution_count": 14,
     "metadata": {},
     "output_type": "execute_result"
    }
   ],
   "source": [
    "connections = name_loc[1].find_all('li')[1].span.get_text().strip()\n",
    "connections"
   ]
  },
  {
   "cell_type": "code",
   "execution_count": 15,
   "metadata": {},
   "outputs": [
    {
     "data": {
      "text/plain": [
       "{'profile_link': 'https://www.linkedin.com/in/rishabh-singh-61b706114/',\n",
       " 'name': 'Rishabh Singh',\n",
       " 'title': '#futureshaper',\n",
       " 'location': 'Bengaluru, Karnataka, India',\n",
       " 'connections': '500+ connections'}"
      ]
     },
     "execution_count": 15,
     "metadata": {},
     "output_type": "execute_result"
    }
   ],
   "source": [
    "info = dict()\n",
    "info['profile_link'] = link\n",
    "info['name'] = name\n",
    "info['title'] = title\n",
    "info['location'] = location\n",
    "info['connections'] = connections\n",
    "info"
   ]
  },
  {
   "cell_type": "code",
   "execution_count": 16,
   "metadata": {},
   "outputs": [
    {
     "data": {
      "text/plain": [
       "'Experienced Field-Programmable Gate Arrays Engineer with a demonstrated history of working in the electronic manufacturing industry. Skilled in VHDL, Design Engineering, Verilog, Timing Closure, Field-Programmable Gate Arrays (FPGA), and SQL. Currently associated with Honeywell International Inc. Strong engineering professional with a Bachelor of Engineering (B.E.)Electronics and Communications Engineering.\\n... see more'"
      ]
     },
     "execution_count": 16,
     "metadata": {},
     "output_type": "execute_result"
    }
   ],
   "source": [
    "# Get the about section\n",
    "about_section = soup.find(\"div\", {'class': 'pv-oc ember-view'})\n",
    "about_paragraph = about_section.find('p').get_text().strip().strip('\\\\n')\n",
    "about_paragraph"
   ]
  },
  {
   "cell_type": "markdown",
   "metadata": {},
   "source": [
    "## Experience Section"
   ]
  },
  {
   "cell_type": "code",
   "execution_count": 17,
   "metadata": {
    "scrolled": true
   },
   "outputs": [
    {
     "data": {
      "text/plain": [
       "'FPGA Engineer'"
      ]
     },
     "execution_count": 17,
     "metadata": {},
     "output_type": "execute_result"
    }
   ],
   "source": [
    "experience_section = soup.find('section', {'id': 'experience-section'})\n",
    "current_workplace = experience_section.find('ul').find('li')\n",
    "a_tags = current_workplace.find('a')\n",
    "job_title = a_tags.find('h3').get_text().strip()\n",
    "job_title"
   ]
  },
  {
   "cell_type": "code",
   "execution_count": 18,
   "metadata": {},
   "outputs": [
    {
     "data": {
      "text/plain": [
       "'Honeywell'"
      ]
     },
     "execution_count": 18,
     "metadata": {},
     "output_type": "execute_result"
    }
   ],
   "source": [
    "company_name = a_tags.find_all('p')[1].get_text().strip()\n",
    "company_name"
   ]
  },
  {
   "cell_type": "code",
   "execution_count": 19,
   "metadata": {},
   "outputs": [
    {
     "data": {
      "text/plain": [
       "'Aug 2019 – Present'"
      ]
     },
     "execution_count": 19,
     "metadata": {},
     "output_type": "execute_result"
    }
   ],
   "source": [
    "date_employed = a_tags.find_all('h4')[0].find_all('span')[1].get_text().strip()\n",
    "date_employed"
   ]
  },
  {
   "cell_type": "code",
   "execution_count": 20,
   "metadata": {},
   "outputs": [
    {
     "data": {
      "text/plain": [
       "'11 mos'"
      ]
     },
     "execution_count": 20,
     "metadata": {},
     "output_type": "execute_result"
    }
   ],
   "source": [
    "employment_duration = a_tags.find_all('h4')[1].find_all('span')[1].get_text().strip()\n",
    "employment_duration"
   ]
  },
  {
   "cell_type": "code",
   "execution_count": 21,
   "metadata": {},
   "outputs": [],
   "source": [
    "info['current_workplace'] = {\n",
    "    'job_title': job_title,\n",
    "    'company_name': company_name,\n",
    "    'date_employed': date_employed,\n",
    "    'employment_duration': employment_duration\n",
    "}"
   ]
  },
  {
   "cell_type": "code",
   "execution_count": 22,
   "metadata": {},
   "outputs": [
    {
     "data": {
      "text/plain": [
       "{'profile_link': 'https://www.linkedin.com/in/rishabh-singh-61b706114/',\n",
       " 'name': 'Rishabh Singh',\n",
       " 'title': '#futureshaper',\n",
       " 'location': 'Bengaluru, Karnataka, India',\n",
       " 'connections': '500+ connections',\n",
       " 'current_workplace': {'job_title': 'FPGA Engineer',\n",
       "  'company_name': 'Honeywell',\n",
       "  'date_employed': 'Aug 2019 – Present',\n",
       "  'employment_duration': '11 mos'}}"
      ]
     },
     "execution_count": 22,
     "metadata": {},
     "output_type": "execute_result"
    }
   ],
   "source": [
    "info"
   ]
  },
  {
   "cell_type": "markdown",
   "metadata": {},
   "source": [
    "## Education"
   ]
  },
  {
   "cell_type": "code",
   "execution_count": 23,
   "metadata": {},
   "outputs": [],
   "source": [
    "edu = dict()\n",
    "edu_section = soup.find('section', {'id': 'education-section'}).find('ul').find_all('li')\n",
    "for index, education in enumerate(edu_section, 1):\n",
    "    try:\n",
    "        field_of_study = education.find_all('span', {'class': 'pv-entity__comma-item'})[1].get_text().strip()\n",
    "    except IndexError:\n",
    "        continue\n",
    "    edu['education_{}'.format(index)] = {\n",
    "        'school_name': education.find('h3').get_text().strip(),\n",
    "        'degree': education.find_all('span', {'class': 'pv-entity__comma-item'})[0].get_text().strip(),\n",
    "        'field_of_study': field_of_study,\n",
    "        'dates_attended': education.find('p', {'class': 'pv-entity__dates t-14 t-black--light t-normal'}).find_all('span')[1].get_text().strip()\n",
    "    }"
   ]
  },
  {
   "cell_type": "code",
   "execution_count": 24,
   "metadata": {},
   "outputs": [],
   "source": [
    "info['education'] = edu"
   ]
  },
  {
   "cell_type": "code",
   "execution_count": 25,
   "metadata": {},
   "outputs": [
    {
     "data": {
      "text/plain": [
       "{'profile_link': 'https://www.linkedin.com/in/rishabh-singh-61b706114/',\n",
       " 'name': 'Rishabh Singh',\n",
       " 'title': '#futureshaper',\n",
       " 'location': 'Bengaluru, Karnataka, India',\n",
       " 'connections': '500+ connections',\n",
       " 'current_workplace': {'job_title': 'FPGA Engineer',\n",
       "  'company_name': 'Honeywell',\n",
       "  'date_employed': 'Aug 2019 – Present',\n",
       "  'employment_duration': '11 mos'},\n",
       " 'education': {'education_1': {'school_name': 'Technocrats Institute of Technology (Excellence), Anand Nagar, PB No. 24, Post Piplani, BHEL, Bhopal - 462021',\n",
       "   'degree': 'Bachelor of Engineering (B.E.)',\n",
       "   'field_of_study': 'Electrical, Electronics and Communications Engineering',\n",
       "   'dates_attended': '2012 – 2016'}}}"
      ]
     },
     "execution_count": 25,
     "metadata": {},
     "output_type": "execute_result"
    }
   ],
   "source": [
    "info"
   ]
  }
 ],
 "metadata": {
  "kernelspec": {
   "display_name": "LinkedinBot",
   "language": "python",
   "name": "linkedinbot"
  },
  "language_info": {
   "codemirror_mode": {
    "name": "ipython",
    "version": 3
   },
   "file_extension": ".py",
   "mimetype": "text/x-python",
   "name": "python",
   "nbconvert_exporter": "python",
   "pygments_lexer": "ipython3",
   "version": "3.8.3"
  }
 },
 "nbformat": 4,
 "nbformat_minor": 4
}
